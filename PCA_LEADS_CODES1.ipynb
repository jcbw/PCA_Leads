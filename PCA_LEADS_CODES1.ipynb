{
 "cells": [
  {
   "cell_type": "markdown",
   "id": "020d2e7d",
   "metadata": {
    "id": "020d2e7d"
   },
   "source": [
    "# PCA Leads (Part 1)\n",
    "\n",
    "### Principal component analysis of Arctic Sea ice using multi-spectral Sentinel-2 and RADAR Sentinel-1 data\n",
    "#### Jullian C.B. Williams *†, Kiran Bhaganagar ††\n",
    "\n",
    "##### † Department of Earth and Planetary Sciences, Center for Advanced Measurements in Extreme Environments (CAMEE), The University of Texas at San Antonio, 1 UTSA Circle, San Antonio, Texas 78249\n",
    "##### †† Department of Mechanical Engineering, The University of Texas at San Antonio, 1 UTSA Circle, San Antonio, Texas 78249\n",
    "\n",
    "###### corresponding author: jullian.williams@my.utsa.edu\n",
    "\n",
    "# Summary\n",
    "The increasing concern regarding climate change continues to motivate research in the Arctic. Within the delicate cycle of the cryosphere, leads are an important kinematic feature that regulate heat balances in the Arctic. Therefore, it is necessary to quantify the genesis of leads over time to identify when and where changes are occurring. The use of a principal component analysis (PCA) is one such tool that is used to identify the characteristics of seasonal ice variability. The PCA not only identifies “normal” or “dominant” conditions or features, but also extract anomalous spatial features from an archive of long-term sequence of images.\n",
    "# Introduction\n",
    "Leads are described as linear kinematic features found on sea ice surfaces. The formation of leads is akin to the process of plate tectonics, where shifting ice sheets diverge, converge and slide against each other, forming fissures in the ice. Leads are important to arctic habitats and wildlife (Stirling, 1997), polar navigation  (Lasserre, 2015) and global climate (Hutter, 2018). Leads are important regulators of heat in the Arctic, with open water and thin ice leads providing the first and second largest heat fluxes into the atmosphere (approximately 600 W.m-2 and 5 W.m-2 respectively, (Maykut 1982 and Li, 2019)).\n",
    "Radar satellite imagery is used to observe and quantify the changes in lead fractions across the ice sheet. Radar data is particularly useful in quantifying lead fractions since the instrument can make observations in Polar regions regardless of weather conditions or time of year (Lindsay & Rothrock, 1995), (Rohrs & Kaleschke, 2012), (Brohan & Kalesche, 2014), (Willmes & Heinemann, 2015). The Sentinel-1 A/B instrument is a powerful, high resolution radar satellite imager that has been used for Polar observations since its launch in 2014 and 2016 (A and B respectively). The two-satellite constellation provides a 6-day exact repeat cycle, 12-day cross-over and a repeat frequency of less than 1 day in the Arctic (Lohse, 2020). Sentinel-1 has unprecedented nominal spatial resolution of ~40 m, which allows small scale leads on the ice surface to be captured.    \n",
    "Google Earth Engine (GEE) hosts a large repository of satellite data, including the entire Sentinel catalog. GEE has been used in several research arenas, from vegetation and land use mapping (Gorelick et al., 2017 and Tsai, et al., 2018) to wetland and snow melt detection (Gulacsi, et al., 2020 and Liang et., al, 2021). Indeed, GEE and Sentinel-2 are proven powerhouses in the use of remote sensing techniques and climate observations in cloud computation environments. Currently, there are no studies published focusing on the detection of leads in the Arctic using this platform which provide a solution to the common big data problem of data storage and computation power.\n",
    "This study provides a principal component technique to sea ice classification in the GEE cloud computation environment using Sentinel-2 optical data. The Beaufort Gyre (Figure 1), once described as an ice production area has shown a decrease in productivity with increased climate forcing over the last decade (Armitage, 2020). This motivates our investigation of sea ice lead prevalence during the lifetime of the Sentinel 1 & 2 instruments. The aim of this study is to classify sea ice open water and thin ice leads in the offshore Alaskan region in the Beaufort Gyre to assess the changes potential heat flux over the ice sheet.\n",
    "\n",
    "# Datasets\n",
    "1.\tSentinel-2 multi-spectral optical data: https://developers.google.com/earth-engine/datasets/catalog/sentinel-2\n",
    "2. Sentinel-1 RADAR data: https://developers.google.com/earth-engine/datasets/catalog/COPERNICUS_S1_GRD\n",
    "\n",
    "# Methods\n",
    "##### Google Colab Python environment\n",
    "Alongside the use of GEE for data retrieval, preparation and classification, we opt to use Google Colab, a cloud computation python environment. Indeed, Google Colab (GC) is an exceptional tool for the use of superior python functions in the cloud, minimizing the pressure of data storage while simultaneously enhancing processing power through parallelization. GC allows the user to mount their Google Drive storage point to the environment, allowing easy data imports and exports of results.\n",
    "\n",
    "##### Python Modules\n",
    "* from datetime import datetime\n",
    "* import pandas as pd\n",
    "* import geopandas as gpd\n",
    "* import numpy as np\n",
    "* import matplotlib.pyplot as plt\n",
    "* from matplotlib import cm\n",
    "* import matplotlib.cbook\n",
    "* from mpl_toolkits.basemap import Basemapimport random\n",
    "* from mpl_toolkits.axes_grid1 import make_axes_locatable\n",
    "* from scipy import stats\n",
    "* import matplotlib.image as mpimg\n",
    "* from sklearn.metrics import r2_score\n",
    "* from sklearn.decomposition import PCA\n",
    "* import warnings\n",
    "\n",
    "##### Principal Component Analysis\n",
    "The PCA method is such that the first component will always contain the most variation found in the original data. This is referred to as the “integrated brightness” and provides a good index of the general image characteristics. In the case of sea ice data, the image scenes may be water or ice dominant. The second component then highlights the major differences between the image channels. In fact, it is suggested that studies using multitemporal monthly data over an annual cycle display a second component that tracks the seasonal evolution well (Piwowar, et al., 1996). Principal components three and onward usually represent increasingly local variation and anomalies. Therefore, we propose that it is within these variations that the open water and thin ice leads may be characterized.\n",
    "\n",
    "###### Plotting Techniques\n",
    "The results of the principal component analysis yield mean and anomalous digital signals from the false RGB color composite images. From this, we can visualize these parameters graphically in Arctic map plots as well as quantitatively in scatter plots to display the orthogonal components. The mean and standard deviations will give a margin of error of the spectral boundaries of the lead types versus the ice ridges in the image scenes which can be both spectrally and geometrically similar.  \n",
    "\n",
    "# References\n",
    "1. Armitage, T., Manucharyan, G., Petty, A., Kwok, R., and Thompson, A. (2020). Enhanced eddy activity in the Beaufort Gyre in response to sea ice loss. Nature Communications, 11(1). doi: 10.1038/s41467-020-14449-z.\n",
    "\n",
    "2. Bröhan, D., Kaleschke, L., & Notz, D. (2014). Analysis of Arctic sea-ice leads from Advanced Microwave Scanning Radiometer.\n",
    "\n",
    "3. Gorelick, N., Hancher, M., Dixon, M., Ilyushchenko, S., Thau, D., and Moore, R. (2017). Google Earth Engine: Planetary-scale geospatial analysis for everyone. Remote Sensing Of Environment, 202, 18-27. doi: 10.1016/j.rse.2017.06.031.\n",
    "\n",
    "4. Gulácsi, A., and Kovács, F. (2020). Sentinel-1-Imagery-Based High-Resolution Water Cover Detection on Wetlands, Aided by Google Earth Engine. Remote Sensing, 12(10), 1614. doi: 10.3390/rs12101614.\n",
    "\n",
    "5. Hutter, N., Zampieri, L., and Losch, M. (2018). Leads and ridges in Arctic sea ice from RGPS data and a new tracking algorithm. The Cryosphere Discussions, 1-27. doi: 10.5194/tc-2018-207.\n",
    "\n",
    "6. Lasserre, F. (2014). Simulations of shipping along Arctic routes: comparison, analysis and economic perspectives. Polar Record, 51, 239 - 259.\n",
    "\n",
    "7. Li, X., Krueger, S. K., Strong, C., Mace, G. G., and Benson, S. (2020). Midwinter Arctic leads form and dissipate low clouds. Nature Communications, 11(1), 1-8.\n",
    "\n",
    "8. Liang, D., Guo, H., Zhang, L., Cheng, Y., Zhu, Q., and Liu, X. (2021). Time-series snowmelt detection over the Antarctic using Sentinel-1 SAR images on Google Earth Engine. Remote Sensing Of Environment, 256, 112318. doi: 10.1016/j.rse.2021.112318.\n",
    "\n",
    "9. Lindsay, R., and Rothrock, D. (1995). Arctic sea ice leads from advanced very high resolution radiometer images. Journal of Geophysical Research, 100(C3), 4533. doi: 10.1029/94jc02393.\n",
    "\n",
    "10. Maykut, G.A. (1982). Large‐scale heat exchange and ice production in the central Arctic. Journal of Geophysical Research, 87, 7971-7984.\n",
    "\n",
    "11. Piwowar, J., and LeDrew, E. (1996). Principal Components Analysis of Arctic Ice Conditions between 1978 and 1987 as Observed from the SMMR Data Record. Canadian Journal Of Remote Sensing, 22(4), 390-403. doi: 10.1080/07038992.1996.10874663.\n",
    "\n",
    "12. Röhrs, J., and Kaleschke, L. (2012). An algorithm to detect sea ice leads by using AMSR-E passive microwave imagery. The Cryosphere, 6(2), 343-352. doi: 10.5194/tc-6-343-2012.\n",
    "\n",
    "13. Stirling, I. (1997). The importance of polynyas, ice edges, and leads to marine mammals and birds. Journal Of Marine Systems, 10(1-4), 9-21. doi: 10.1016/s0924-7963(96)00054-1.\n",
    "\n",
    "14. Tsai, Y., Stow, D., Chen, H., Lewison, R., An, L., and Shi, L. (2018). Mapping Vegetation and Land Use Types in Fanjingshan National Nature Reserve Using Google Earth Engine. Remote Sensing, 10(6), 927. doi: 10.3390/rs10060927.\n",
    "\n",
    "15. Wakulinska, M., & Marcinkowska-Ochtyra, A. (2020). Multi-Temporal Sentinel-2 Data in Classification of Mountain Vegetation. Remote. Sens., 12, 2696.\n",
    "\n",
    "16. Williams, J. C.; Ackley, S. F.; Mestas-Nuñez, A. M.; Macdonald, G. J. Lead Detection with Sentinel-1 in the Beaufort Gyre using Google Earth Engine. Preprints 2024, 2024050284. https://doi.org/10.20944/preprints202405.0284.v1\n",
    "\n",
    "17. Willmes, S. and Heinemann, G. (2015). Sea-Ice Wintertime Lead Frequencies and Regional Characteristics in the Arctic, 2003–2015. Remote Sensing, 8(1), 4. doi: 10.3390/rs8010004."
   ]
  },
  {
   "cell_type": "code",
   "execution_count": null,
   "id": "526b289e",
   "metadata": {
    "id": "526b289e"
   },
   "outputs": [],
   "source": [
    "import pandas as pd\n",
    "import numpy as np\n",
    "import geopandas as gpd\n",
    "import matplotlib\n",
    "from matplotlib import pyplot as plt\n",
    "from scipy import fftpack\n",
    "from scipy import stats\n",
    "\n",
    "from matplotlib import cm\n",
    "import random\n",
    "import warnings\n",
    "\n",
    "import matplotlib.image as mpimg\n",
    "from sklearn.metrics import r2_score\n",
    "from sklearn.decomposition import PCA\n",
    "from sklearn.preprocessing import StandardScaler\n",
    "import seaborn as sns\n",
    "%matplotlib inline"
   ]
  },
  {
   "cell_type": "markdown",
   "id": "e08a4916",
   "metadata": {
    "id": "e08a4916"
   },
   "source": [
    "### Link to dataset. Must have UTSA email to access."
   ]
  },
  {
   "cell_type": "code",
   "execution_count": null,
   "id": "50e63d4c",
   "metadata": {
    "id": "50e63d4c"
   },
   "outputs": [],
   "source": [
    "#https://drive.google.com/file/d/1Qa-_zm_zP6mxBJYdcRR7YwGcehbVJ8SO/view?usp=sharing"
   ]
  },
  {
   "cell_type": "code",
   "execution_count": null,
   "id": "eaf2dbb7",
   "metadata": {
    "id": "eaf2dbb7"
   },
   "outputs": [],
   "source": [
    "dxt =  pd.read_csv(\"C:/Users/julli/Desktop/classes/dxt.csv\").dropna()"
   ]
  },
  {
   "cell_type": "code",
   "execution_count": null,
   "id": "3e49edc3",
   "metadata": {
    "id": "3e49edc3"
   },
   "outputs": [],
   "source": [
    "jxt =  pd.read_csv(\"C:/Users/julli/Desktop/classes/jxt.csv\").dropna()"
   ]
  },
  {
   "cell_type": "code",
   "execution_count": null,
   "id": "e0322cb5",
   "metadata": {
    "id": "e0322cb5"
   },
   "outputs": [],
   "source": [
    "fxt =  pd.read_csv(\"C:/Users/julli/Desktop/classes/fxt.csv\").dropna()"
   ]
  },
  {
   "cell_type": "code",
   "execution_count": null,
   "id": "03586a88",
   "metadata": {
    "id": "03586a88",
    "outputId": "f2430403-8c86-4c1a-bce0-7043277847f0"
   },
   "outputs": [
    {
     "data": {
      "text/html": [
       "<div>\n",
       "<style scoped>\n",
       "    .dataframe tbody tr th:only-of-type {\n",
       "        vertical-align: middle;\n",
       "    }\n",
       "\n",
       "    .dataframe tbody tr th {\n",
       "        vertical-align: top;\n",
       "    }\n",
       "\n",
       "    .dataframe thead th {\n",
       "        text-align: right;\n",
       "    }\n",
       "</style>\n",
       "<table border=\"1\" class=\"dataframe\">\n",
       "  <thead>\n",
       "    <tr style=\"text-align: right;\">\n",
       "      <th></th>\n",
       "      <th>HH</th>\n",
       "      <th>HH_1</th>\n",
       "      <th>HV</th>\n",
       "      <th>icetype</th>\n",
       "      <th>geometry</th>\n",
       "      <th>jday</th>\n",
       "    </tr>\n",
       "  </thead>\n",
       "  <tbody>\n",
       "    <tr>\n",
       "      <th>0</th>\n",
       "      <td>149.000000</td>\n",
       "      <td>88.000000</td>\n",
       "      <td>59.000000</td>\n",
       "      <td>2</td>\n",
       "      <td>POLYGON ((-1000000.000000166 1426000.000000238...</td>\n",
       "      <td>335</td>\n",
       "    </tr>\n",
       "    <tr>\n",
       "      <th>1</th>\n",
       "      <td>142.000000</td>\n",
       "      <td>107.000000</td>\n",
       "      <td>53.000000</td>\n",
       "      <td>1</td>\n",
       "      <td>POLYGON ((-1000000.000000167 1432000.000000238...</td>\n",
       "      <td>335</td>\n",
       "    </tr>\n",
       "    <tr>\n",
       "      <th>2</th>\n",
       "      <td>160.500000</td>\n",
       "      <td>48.000000</td>\n",
       "      <td>87.000000</td>\n",
       "      <td>2</td>\n",
       "      <td>POLYGON ((-1000000.000000169 1437000.000000242...</td>\n",
       "      <td>335</td>\n",
       "    </tr>\n",
       "    <tr>\n",
       "      <th>3</th>\n",
       "      <td>149.000000</td>\n",
       "      <td>87.000000</td>\n",
       "      <td>60.000000</td>\n",
       "      <td>2</td>\n",
       "      <td>MULTIPOLYGON (((-999000.0000000843 1450000.000...</td>\n",
       "      <td>335</td>\n",
       "    </tr>\n",
       "    <tr>\n",
       "      <th>4</th>\n",
       "      <td>157.000000</td>\n",
       "      <td>57.000000</td>\n",
       "      <td>79.000000</td>\n",
       "      <td>6</td>\n",
       "      <td>POLYGON ((-1000000.000000171 1466000.000000251...</td>\n",
       "      <td>335</td>\n",
       "    </tr>\n",
       "    <tr>\n",
       "      <th>5</th>\n",
       "      <td>155.000000</td>\n",
       "      <td>63.000000</td>\n",
       "      <td>77.000000</td>\n",
       "      <td>6</td>\n",
       "      <td>POLYGON ((-1000000.000000172 1484000.000000256...</td>\n",
       "      <td>335</td>\n",
       "    </tr>\n",
       "    <tr>\n",
       "      <th>6</th>\n",
       "      <td>152.000000</td>\n",
       "      <td>68.000000</td>\n",
       "      <td>76.000000</td>\n",
       "      <td>6</td>\n",
       "      <td>POLYGON ((-1000000.000000174 1494000.00000026,...</td>\n",
       "      <td>335</td>\n",
       "    </tr>\n",
       "    <tr>\n",
       "      <th>7</th>\n",
       "      <td>154.000000</td>\n",
       "      <td>64.000000</td>\n",
       "      <td>79.000000</td>\n",
       "      <td>2</td>\n",
       "      <td>POLYGON ((-1000000.000000177 1521000.00000027,...</td>\n",
       "      <td>335</td>\n",
       "    </tr>\n",
       "    <tr>\n",
       "      <th>8</th>\n",
       "      <td>151.846154</td>\n",
       "      <td>71.384615</td>\n",
       "      <td>73.076923</td>\n",
       "      <td>6</td>\n",
       "      <td>POLYGON ((-1000000.000000178 1538000.000000276...</td>\n",
       "      <td>335</td>\n",
       "    </tr>\n",
       "    <tr>\n",
       "      <th>9</th>\n",
       "      <td>155.000000</td>\n",
       "      <td>61.000000</td>\n",
       "      <td>79.000000</td>\n",
       "      <td>2</td>\n",
       "      <td>POLYGON ((-1000000.000000183 1576000.000000288...</td>\n",
       "      <td>335</td>\n",
       "    </tr>\n",
       "  </tbody>\n",
       "</table>\n",
       "</div>"
      ],
      "text/plain": [
       "           HH        HH_1         HV  icetype  \\\n",
       "0  149.000000   88.000000  59.000000        2   \n",
       "1  142.000000  107.000000  53.000000        1   \n",
       "2  160.500000   48.000000  87.000000        2   \n",
       "3  149.000000   87.000000  60.000000        2   \n",
       "4  157.000000   57.000000  79.000000        6   \n",
       "5  155.000000   63.000000  77.000000        6   \n",
       "6  152.000000   68.000000  76.000000        6   \n",
       "7  154.000000   64.000000  79.000000        2   \n",
       "8  151.846154   71.384615  73.076923        6   \n",
       "9  155.000000   61.000000  79.000000        2   \n",
       "\n",
       "                                            geometry  jday  \n",
       "0  POLYGON ((-1000000.000000166 1426000.000000238...   335  \n",
       "1  POLYGON ((-1000000.000000167 1432000.000000238...   335  \n",
       "2  POLYGON ((-1000000.000000169 1437000.000000242...   335  \n",
       "3  MULTIPOLYGON (((-999000.0000000843 1450000.000...   335  \n",
       "4  POLYGON ((-1000000.000000171 1466000.000000251...   335  \n",
       "5  POLYGON ((-1000000.000000172 1484000.000000256...   335  \n",
       "6  POLYGON ((-1000000.000000174 1494000.00000026,...   335  \n",
       "7  POLYGON ((-1000000.000000177 1521000.00000027,...   335  \n",
       "8  POLYGON ((-1000000.000000178 1538000.000000276...   335  \n",
       "9  POLYGON ((-1000000.000000183 1576000.000000288...   335  "
      ]
     },
     "execution_count": 83,
     "metadata": {},
     "output_type": "execute_result"
    }
   ],
   "source": [
    "dxt = dxt[['HH','HH_1','HV','icetype','geometry','jday']]\n",
    "dxt.head(10)"
   ]
  },
  {
   "cell_type": "code",
   "execution_count": null,
   "id": "3769459e",
   "metadata": {
    "id": "3769459e",
    "outputId": "7ed1f49b-5d3d-4f20-c8ac-eb75e767e37a"
   },
   "outputs": [
    {
     "data": {
      "text/html": [
       "<div>\n",
       "<style scoped>\n",
       "    .dataframe tbody tr th:only-of-type {\n",
       "        vertical-align: middle;\n",
       "    }\n",
       "\n",
       "    .dataframe tbody tr th {\n",
       "        vertical-align: top;\n",
       "    }\n",
       "\n",
       "    .dataframe thead th {\n",
       "        text-align: right;\n",
       "    }\n",
       "</style>\n",
       "<table border=\"1\" class=\"dataframe\">\n",
       "  <thead>\n",
       "    <tr style=\"text-align: right;\">\n",
       "      <th></th>\n",
       "      <th>HH</th>\n",
       "      <th>HH_1</th>\n",
       "      <th>HV</th>\n",
       "      <th>icetype</th>\n",
       "      <th>geometry</th>\n",
       "      <th>jday</th>\n",
       "    </tr>\n",
       "  </thead>\n",
       "  <tbody>\n",
       "    <tr>\n",
       "      <th>207</th>\n",
       "      <td>137.436190</td>\n",
       "      <td>95.641311</td>\n",
       "      <td>74.820541</td>\n",
       "      <td>5</td>\n",
       "      <td>MULTIPOLYGON (((-461999.9999999111 1798999.999...</td>\n",
       "      <td>2</td>\n",
       "    </tr>\n",
       "    <tr>\n",
       "      <th>215</th>\n",
       "      <td>137.699919</td>\n",
       "      <td>98.998648</td>\n",
       "      <td>71.180187</td>\n",
       "      <td>6</td>\n",
       "      <td>MULTIPOLYGON (((-471000.0000000432 1926000.000...</td>\n",
       "      <td>2</td>\n",
       "    </tr>\n",
       "    <tr>\n",
       "      <th>2894</th>\n",
       "      <td>130.134286</td>\n",
       "      <td>115.501429</td>\n",
       "      <td>68.385714</td>\n",
       "      <td>5</td>\n",
       "      <td>MULTIPOLYGON (((-682999.9999999786 1609000.000...</td>\n",
       "      <td>2</td>\n",
       "    </tr>\n",
       "    <tr>\n",
       "      <th>3013</th>\n",
       "      <td>133.857143</td>\n",
       "      <td>104.500000</td>\n",
       "      <td>72.214286</td>\n",
       "      <td>5</td>\n",
       "      <td>MULTIPOLYGON (((-692999.9999999371 1599000.000...</td>\n",
       "      <td>2</td>\n",
       "    </tr>\n",
       "    <tr>\n",
       "      <th>3014</th>\n",
       "      <td>93.229947</td>\n",
       "      <td>246.390374</td>\n",
       "      <td>25.181818</td>\n",
       "      <td>5</td>\n",
       "      <td>POLYGON ((-691000.0000001161 1606000.000000269...</td>\n",
       "      <td>2</td>\n",
       "    </tr>\n",
       "    <tr>\n",
       "      <th>3041</th>\n",
       "      <td>134.000000</td>\n",
       "      <td>104.203390</td>\n",
       "      <td>72.033898</td>\n",
       "      <td>2</td>\n",
       "      <td>MULTIPOLYGON (((-691999.9999999927 1610000.000...</td>\n",
       "      <td>2</td>\n",
       "    </tr>\n",
       "    <tr>\n",
       "      <th>3042</th>\n",
       "      <td>132.639098</td>\n",
       "      <td>107.721805</td>\n",
       "      <td>71.000000</td>\n",
       "      <td>2</td>\n",
       "      <td>POLYGON ((-693000.0000001177 1615000.000000274...</td>\n",
       "      <td>2</td>\n",
       "    </tr>\n",
       "    <tr>\n",
       "      <th>3053</th>\n",
       "      <td>139.000000</td>\n",
       "      <td>91.000000</td>\n",
       "      <td>77.000000</td>\n",
       "      <td>1</td>\n",
       "      <td>POLYGON ((-694000.0000001161 1597000.000000267...</td>\n",
       "      <td>2</td>\n",
       "    </tr>\n",
       "    <tr>\n",
       "      <th>3054</th>\n",
       "      <td>138.000000</td>\n",
       "      <td>96.000000</td>\n",
       "      <td>73.000000</td>\n",
       "      <td>5</td>\n",
       "      <td>POLYGON ((-694000.0000001155 1603000.000000267...</td>\n",
       "      <td>2</td>\n",
       "    </tr>\n",
       "    <tr>\n",
       "      <th>3055</th>\n",
       "      <td>133.000000</td>\n",
       "      <td>104.000000</td>\n",
       "      <td>74.500000</td>\n",
       "      <td>5</td>\n",
       "      <td>POLYGON ((-695000.0000001178 1613000.000000274...</td>\n",
       "      <td>2</td>\n",
       "    </tr>\n",
       "  </tbody>\n",
       "</table>\n",
       "</div>"
      ],
      "text/plain": [
       "              HH        HH_1         HV  icetype  \\\n",
       "207   137.436190   95.641311  74.820541        5   \n",
       "215   137.699919   98.998648  71.180187        6   \n",
       "2894  130.134286  115.501429  68.385714        5   \n",
       "3013  133.857143  104.500000  72.214286        5   \n",
       "3014   93.229947  246.390374  25.181818        5   \n",
       "3041  134.000000  104.203390  72.033898        2   \n",
       "3042  132.639098  107.721805  71.000000        2   \n",
       "3053  139.000000   91.000000  77.000000        1   \n",
       "3054  138.000000   96.000000  73.000000        5   \n",
       "3055  133.000000  104.000000  74.500000        5   \n",
       "\n",
       "                                               geometry  jday  \n",
       "207   MULTIPOLYGON (((-461999.9999999111 1798999.999...     2  \n",
       "215   MULTIPOLYGON (((-471000.0000000432 1926000.000...     2  \n",
       "2894  MULTIPOLYGON (((-682999.9999999786 1609000.000...     2  \n",
       "3013  MULTIPOLYGON (((-692999.9999999371 1599000.000...     2  \n",
       "3014  POLYGON ((-691000.0000001161 1606000.000000269...     2  \n",
       "3041  MULTIPOLYGON (((-691999.9999999927 1610000.000...     2  \n",
       "3042  POLYGON ((-693000.0000001177 1615000.000000274...     2  \n",
       "3053  POLYGON ((-694000.0000001161 1597000.000000267...     2  \n",
       "3054  POLYGON ((-694000.0000001155 1603000.000000267...     2  \n",
       "3055  POLYGON ((-695000.0000001178 1613000.000000274...     2  "
      ]
     },
     "execution_count": 84,
     "metadata": {},
     "output_type": "execute_result"
    }
   ],
   "source": [
    "jxt = jxt[['HH','HH_1','HV','icetype','geometry','jday']]\n",
    "jxt.head(10)"
   ]
  },
  {
   "cell_type": "code",
   "execution_count": null,
   "id": "4e193f37",
   "metadata": {
    "id": "4e193f37",
    "outputId": "ab1cc838-e084-4d26-a6b2-d01622628125"
   },
   "outputs": [
    {
     "data": {
      "text/html": [
       "<div>\n",
       "<style scoped>\n",
       "    .dataframe tbody tr th:only-of-type {\n",
       "        vertical-align: middle;\n",
       "    }\n",
       "\n",
       "    .dataframe tbody tr th {\n",
       "        vertical-align: top;\n",
       "    }\n",
       "\n",
       "    .dataframe thead th {\n",
       "        text-align: right;\n",
       "    }\n",
       "</style>\n",
       "<table border=\"1\" class=\"dataframe\">\n",
       "  <thead>\n",
       "    <tr style=\"text-align: right;\">\n",
       "      <th></th>\n",
       "      <th>HH</th>\n",
       "      <th>HH_1</th>\n",
       "      <th>HV</th>\n",
       "      <th>icetype</th>\n",
       "      <th>geometry</th>\n",
       "      <th>jday</th>\n",
       "    </tr>\n",
       "  </thead>\n",
       "  <tbody>\n",
       "    <tr>\n",
       "      <th>0</th>\n",
       "      <td>153.000000</td>\n",
       "      <td>66.000000</td>\n",
       "      <td>77.000000</td>\n",
       "      <td>5</td>\n",
       "      <td>POLYGON ((-1000000.000000168 1439000.000000243...</td>\n",
       "      <td>32</td>\n",
       "    </tr>\n",
       "    <tr>\n",
       "      <th>1</th>\n",
       "      <td>156.666667</td>\n",
       "      <td>56.666667</td>\n",
       "      <td>81.333333</td>\n",
       "      <td>6</td>\n",
       "      <td>POLYGON ((-1002000.000000171 1458000.000000249...</td>\n",
       "      <td>32</td>\n",
       "    </tr>\n",
       "    <tr>\n",
       "      <th>2</th>\n",
       "      <td>161.000000</td>\n",
       "      <td>49.000000</td>\n",
       "      <td>82.000000</td>\n",
       "      <td>6</td>\n",
       "      <td>POLYGON ((-1000000.00000017 1463000.000000249,...</td>\n",
       "      <td>32</td>\n",
       "    </tr>\n",
       "    <tr>\n",
       "      <th>3</th>\n",
       "      <td>160.666667</td>\n",
       "      <td>46.666667</td>\n",
       "      <td>87.000000</td>\n",
       "      <td>5</td>\n",
       "      <td>POLYGON ((-1000000.000000171 1477000.000000254...</td>\n",
       "      <td>32</td>\n",
       "    </tr>\n",
       "    <tr>\n",
       "      <th>4</th>\n",
       "      <td>158.000000</td>\n",
       "      <td>57.000000</td>\n",
       "      <td>78.000000</td>\n",
       "      <td>6</td>\n",
       "      <td>POLYGON ((-1000000.000000177 1532000.000000272...</td>\n",
       "      <td>32</td>\n",
       "    </tr>\n",
       "    <tr>\n",
       "      <th>5</th>\n",
       "      <td>158.000000</td>\n",
       "      <td>52.000000</td>\n",
       "      <td>86.000000</td>\n",
       "      <td>6</td>\n",
       "      <td>POLYGON ((-1000000.000000179 1534000.000000274...</td>\n",
       "      <td>32</td>\n",
       "    </tr>\n",
       "    <tr>\n",
       "      <th>6</th>\n",
       "      <td>156.666667</td>\n",
       "      <td>57.833333</td>\n",
       "      <td>80.833333</td>\n",
       "      <td>6</td>\n",
       "      <td>MULTIPOLYGON (((-1000000.000000465 1569000.000...</td>\n",
       "      <td>32</td>\n",
       "    </tr>\n",
       "    <tr>\n",
       "      <th>7</th>\n",
       "      <td>149.500000</td>\n",
       "      <td>85.000000</td>\n",
       "      <td>61.500000</td>\n",
       "      <td>2</td>\n",
       "      <td>POLYGON ((-1000000.000000184 1582000.000000292...</td>\n",
       "      <td>32</td>\n",
       "    </tr>\n",
       "    <tr>\n",
       "      <th>8</th>\n",
       "      <td>149.000000</td>\n",
       "      <td>79.500000</td>\n",
       "      <td>69.500000</td>\n",
       "      <td>5</td>\n",
       "      <td>MULTIPOLYGON (((-999000.0000000143 1583999.999...</td>\n",
       "      <td>32</td>\n",
       "    </tr>\n",
       "    <tr>\n",
       "      <th>17</th>\n",
       "      <td>153.000000</td>\n",
       "      <td>73.000000</td>\n",
       "      <td>69.000000</td>\n",
       "      <td>6</td>\n",
       "      <td>POLYGON ((-1001000.000000171 1460000.00000025,...</td>\n",
       "      <td>32</td>\n",
       "    </tr>\n",
       "  </tbody>\n",
       "</table>\n",
       "</div>"
      ],
      "text/plain": [
       "            HH       HH_1         HV  icetype  \\\n",
       "0   153.000000  66.000000  77.000000        5   \n",
       "1   156.666667  56.666667  81.333333        6   \n",
       "2   161.000000  49.000000  82.000000        6   \n",
       "3   160.666667  46.666667  87.000000        5   \n",
       "4   158.000000  57.000000  78.000000        6   \n",
       "5   158.000000  52.000000  86.000000        6   \n",
       "6   156.666667  57.833333  80.833333        6   \n",
       "7   149.500000  85.000000  61.500000        2   \n",
       "8   149.000000  79.500000  69.500000        5   \n",
       "17  153.000000  73.000000  69.000000        6   \n",
       "\n",
       "                                             geometry  jday  \n",
       "0   POLYGON ((-1000000.000000168 1439000.000000243...    32  \n",
       "1   POLYGON ((-1002000.000000171 1458000.000000249...    32  \n",
       "2   POLYGON ((-1000000.00000017 1463000.000000249,...    32  \n",
       "3   POLYGON ((-1000000.000000171 1477000.000000254...    32  \n",
       "4   POLYGON ((-1000000.000000177 1532000.000000272...    32  \n",
       "5   POLYGON ((-1000000.000000179 1534000.000000274...    32  \n",
       "6   MULTIPOLYGON (((-1000000.000000465 1569000.000...    32  \n",
       "7   POLYGON ((-1000000.000000184 1582000.000000292...    32  \n",
       "8   MULTIPOLYGON (((-999000.0000000143 1583999.999...    32  \n",
       "17  POLYGON ((-1001000.000000171 1460000.00000025,...    32  "
      ]
     },
     "execution_count": 85,
     "metadata": {},
     "output_type": "execute_result"
    }
   ],
   "source": [
    "fxt = fxt[['HH','HH_1','HV','icetype','geometry','jday']]\n",
    "fxt.head(10)"
   ]
  },
  {
   "cell_type": "code",
   "execution_count": null,
   "id": "b4ba9535",
   "metadata": {
    "id": "b4ba9535"
   },
   "outputs": [],
   "source": [
    "txt = pd.concat([dxt,jxt,fxt])"
   ]
  },
  {
   "cell_type": "code",
   "execution_count": null,
   "id": "7887a91a",
   "metadata": {
    "id": "7887a91a",
    "outputId": "b4cafd3a-ee05-4975-af93-9fa25584206b"
   },
   "outputs": [
    {
     "name": "stdout",
     "output_type": "stream",
     "text": [
      "<class 'pandas.core.frame.DataFrame'>\n",
      "Int64Index: 120993 entries, 0 to 151782\n",
      "Data columns (total 6 columns):\n",
      " #   Column    Non-Null Count   Dtype  \n",
      "---  ------    --------------   -----  \n",
      " 0   HH        120993 non-null  float64\n",
      " 1   HH_1      120993 non-null  float64\n",
      " 2   HV        120993 non-null  float64\n",
      " 3   icetype   120993 non-null  int64  \n",
      " 4   geometry  120993 non-null  object \n",
      " 5   jday      120993 non-null  int64  \n",
      "dtypes: float64(3), int64(2), object(1)\n",
      "memory usage: 6.5+ MB\n"
     ]
    }
   ],
   "source": [
    "txt.info()"
   ]
  },
  {
   "cell_type": "code",
   "execution_count": null,
   "id": "f7bc8576",
   "metadata": {
    "id": "f7bc8576"
   },
   "outputs": [],
   "source": [
    "pca = PCA(2)"
   ]
  },
  {
   "cell_type": "code",
   "execution_count": null,
   "id": "c3e6deb9",
   "metadata": {
    "id": "c3e6deb9",
    "outputId": "49f72ff2-0c26-440c-9f2e-0ab5771107b8"
   },
   "outputs": [
    {
     "data": {
      "text/plain": [
       "PCA(n_components=2)"
      ]
     },
     "execution_count": 162,
     "metadata": {},
     "output_type": "execute_result"
    }
   ],
   "source": [
    "xpca = dxt.iloc[:, 0:4]\n",
    "pca.fit(xpca)"
   ]
  },
  {
   "cell_type": "code",
   "execution_count": null,
   "id": "9b72592f",
   "metadata": {
    "id": "9b72592f",
    "outputId": "20fd5c02-1344-49eb-91da-b672a64a5fe3"
   },
   "outputs": [
    {
     "data": {
      "text/html": [
       "<div>\n",
       "<style scoped>\n",
       "    .dataframe tbody tr th:only-of-type {\n",
       "        vertical-align: middle;\n",
       "    }\n",
       "\n",
       "    .dataframe tbody tr th {\n",
       "        vertical-align: top;\n",
       "    }\n",
       "\n",
       "    .dataframe thead th {\n",
       "        text-align: right;\n",
       "    }\n",
       "</style>\n",
       "<table border=\"1\" class=\"dataframe\">\n",
       "  <thead>\n",
       "    <tr style=\"text-align: right;\">\n",
       "      <th></th>\n",
       "      <th>HH</th>\n",
       "      <th>HH_1</th>\n",
       "      <th>HV</th>\n",
       "      <th>icetype</th>\n",
       "    </tr>\n",
       "  </thead>\n",
       "  <tbody>\n",
       "    <tr>\n",
       "      <th>0</th>\n",
       "      <td>149.0</td>\n",
       "      <td>88.0</td>\n",
       "      <td>59.0</td>\n",
       "      <td>2</td>\n",
       "    </tr>\n",
       "    <tr>\n",
       "      <th>1</th>\n",
       "      <td>142.0</td>\n",
       "      <td>107.0</td>\n",
       "      <td>53.0</td>\n",
       "      <td>1</td>\n",
       "    </tr>\n",
       "    <tr>\n",
       "      <th>2</th>\n",
       "      <td>160.5</td>\n",
       "      <td>48.0</td>\n",
       "      <td>87.0</td>\n",
       "      <td>2</td>\n",
       "    </tr>\n",
       "    <tr>\n",
       "      <th>3</th>\n",
       "      <td>149.0</td>\n",
       "      <td>87.0</td>\n",
       "      <td>60.0</td>\n",
       "      <td>2</td>\n",
       "    </tr>\n",
       "    <tr>\n",
       "      <th>4</th>\n",
       "      <td>157.0</td>\n",
       "      <td>57.0</td>\n",
       "      <td>79.0</td>\n",
       "      <td>6</td>\n",
       "    </tr>\n",
       "  </tbody>\n",
       "</table>\n",
       "</div>"
      ],
      "text/plain": [
       "      HH   HH_1    HV  icetype\n",
       "0  149.0   88.0  59.0        2\n",
       "1  142.0  107.0  53.0        1\n",
       "2  160.5   48.0  87.0        2\n",
       "3  149.0   87.0  60.0        2\n",
       "4  157.0   57.0  79.0        6"
      ]
     },
     "execution_count": 163,
     "metadata": {},
     "output_type": "execute_result"
    }
   ],
   "source": [
    "xpca.head(5)"
   ]
  },
  {
   "cell_type": "code",
   "execution_count": null,
   "id": "da6f4ecc",
   "metadata": {
    "id": "da6f4ecc",
    "outputId": "9ebef05e-3670-424f-87bf-b7526cf0b3e6"
   },
   "outputs": [
    {
     "name": "stdout",
     "output_type": "stream",
     "text": [
      "[[-3.62153161e-01  8.87820070e-01 -2.83936865e-01  6.83644878e-04]\n",
      " [ 4.49929943e-01 -1.00264881e-01 -8.87358203e-01  1.02674145e-02]]\n",
      "[729.35860788  33.08101876]\n"
     ]
    }
   ],
   "source": [
    "print(pca.components_)\n",
    "print(pca.explained_variance_)"
   ]
  },
  {
   "cell_type": "code",
   "execution_count": null,
   "id": "1f30f3b4",
   "metadata": {
    "id": "1f30f3b4",
    "outputId": "e3e2fcb7-dd7e-43a1-f2b2-37c6528823c0"
   },
   "outputs": [
    {
     "name": "stdout",
     "output_type": "stream",
     "text": [
      "[[  9.49209359  13.16738284]\n",
      " [ 30.5986846   13.4267223 ]\n",
      " [-38.13570279  -2.49385724]\n",
      " ...\n",
      " [  3.5567803  -11.00069808]\n",
      " [  2.59347851  -9.5220754 ]\n",
      " [  3.5567803  -11.00069808]]\n"
     ]
    }
   ],
   "source": [
    "B = pca.transform(xpca)\n",
    "print(B)"
   ]
  },
  {
   "cell_type": "code",
   "execution_count": null,
   "id": "e6c5a9be",
   "metadata": {
    "id": "e6c5a9be",
    "outputId": "ee09bb18-1375-405e-f468-8682761b9aae"
   },
   "outputs": [
    {
     "data": {
      "text/plain": [
       "StandardScaler()"
      ]
     },
     "execution_count": 166,
     "metadata": {},
     "output_type": "execute_result"
    }
   ],
   "source": [
    "scaler = StandardScaler()\n",
    "scaler.fit(xpca)"
   ]
  },
  {
   "cell_type": "code",
   "execution_count": null,
   "id": "74112c28",
   "metadata": {
    "id": "74112c28"
   },
   "outputs": [],
   "source": [
    "scaled_data = scaler.transform(xpca)"
   ]
  },
  {
   "cell_type": "code",
   "execution_count": null,
   "id": "f0f5e58a",
   "metadata": {
    "id": "f0f5e58a",
    "outputId": "6171132f-5565-4213-ea3d-e431c02e0bf8"
   },
   "outputs": [
    {
     "data": {
      "text/plain": [
       "PCA(n_components=2)"
      ]
     },
     "execution_count": 168,
     "metadata": {},
     "output_type": "execute_result"
    }
   ],
   "source": [
    "pca = PCA(n_components=2)\n",
    "pca.fit(scaled_data)"
   ]
  },
  {
   "cell_type": "code",
   "execution_count": null,
   "id": "d59509c1",
   "metadata": {
    "id": "d59509c1",
    "outputId": "b1f1224d-f7fc-4848-83b1-d2b6da5788e4"
   },
   "outputs": [
    {
     "data": {
      "text/plain": [
       "array([[ 0.88983344, -0.6555041 ],\n",
       "       [ 2.11986919, -1.15406008],\n",
       "       [-2.42475098, -0.65417303],\n",
       "       ...,\n",
       "       [-0.02305298, -1.18714118],\n",
       "       [-0.02644496,  0.75763365],\n",
       "       [-0.02305298, -1.18714118]])"
      ]
     },
     "execution_count": 169,
     "metadata": {},
     "output_type": "execute_result"
    }
   ],
   "source": [
    "x_pca = pca.transform(scaled_data)\n",
    "x_pca"
   ]
  },
  {
   "cell_type": "code",
   "execution_count": null,
   "id": "53083180",
   "metadata": {
    "id": "53083180",
    "outputId": "0bf2c895-7c56-4f27-ca34-c1a244b22b01"
   },
   "outputs": [
    {
     "data": {
      "text/plain": [
       "(array([ 0.88983344,  2.11986919, -2.42475098, ..., -0.02305298,\n",
       "        -0.02644496, -0.02305298]),\n",
       " array([-0.6555041 , -1.15406008, -0.65417303, ..., -1.18714118,\n",
       "         0.75763365, -1.18714118]))"
      ]
     },
     "execution_count": 170,
     "metadata": {},
     "output_type": "execute_result"
    }
   ],
   "source": [
    "x_pca[:,0],x_pca[:,1]"
   ]
  },
  {
   "cell_type": "code",
   "execution_count": null,
   "id": "5c631102",
   "metadata": {
    "id": "5c631102",
    "outputId": "f571f9b2-4573-40da-99ac-b022db90417d"
   },
   "outputs": [
    {
     "data": {
      "text/plain": [
       "Text(0.5, 1.0, 'Principal components - December 2020')"
      ]
     },
     "execution_count": 171,
     "metadata": {},
     "output_type": "execute_result"
    },
    {
     "data": {
      "image/png": "[encoded data removed]",
      "text/plain": [
       "<Figure size 864x432 with 1 Axes>"
      ]
     },
     "metadata": {
      "needs_background": "light"
     },
     "output_type": "display_data"
    }
   ],
   "source": [
    "figx = plt.figure(figsize=(12,6))\n",
    "plt.scatter(x_pca[:,0],x_pca[:,1], c=dxt['icetype'],cmap='rainbow')\n",
    "plt.xlabel('1st principal component')\n",
    "plt.ylabel('2nd Principal Component')\n",
    "plt.title('Principal components - December 2020')\n",
    "#figx.savefig('component.png')"
   ]
  },
  {
   "cell_type": "code",
   "execution_count": null,
   "id": "2d820d89",
   "metadata": {
    "id": "2d820d89",
    "outputId": "b850d95c-6653-452c-ded0-0bd5b04c7fb6"
   },
   "outputs": [
    {
     "data": {
      "image/png": "[encoded data removed]",
      "text/plain": [
       "<Figure size 864x432 with 2 Axes>"
      ]
     },
     "metadata": {
      "needs_background": "light"
     },
     "output_type": "display_data"
    }
   ],
   "source": [
    "figdec = plt.figure(figsize=(12,6))\n",
    "map = pd.DataFrame(pca.components_,columns=['OW','TIL','TINP','TIKP'])\n",
    "plt.title('Correlation heatmap - Dec 2020')\n",
    "sns.heatmap(map,cmap='jet')\n",
    "#figdec.savefig('dpca.png')"
   ]
  },
  {
   "cell_type": "code",
   "execution_count": null,
   "id": "b7fb30c3",
   "metadata": {
    "id": "b7fb30c3"
   },
   "outputs": [],
   "source": [
    "from statsmodels.graphics.gofplots import qqplot"
   ]
  },
  {
   "cell_type": "code",
   "execution_count": null,
   "id": "b75ba8d0",
   "metadata": {
    "id": "b75ba8d0",
    "outputId": "949f5f2c-76ec-4ccb-d71c-37a65c70a1f0"
   },
   "outputs": [
    {
     "name": "stderr",
     "output_type": "stream",
     "text": [
      "C:\\Users\\julli\\anaconda3\\envs\\geo_env\\lib\\site-packages\\statsmodels\\graphics\\gofplots.py:993: UserWarning: marker is redundantly defined by the 'marker' keyword argument and the fmt string \"bo\" (-> marker='o'). The keyword argument will take precedence.\n",
      "  ax.plot(x, y, fmt, **plot_style)\n"
     ]
    },
    {
     "data": {
      "image/png": "[encoded data removed]",
      "text/plain": [
       "<Figure size 432x288 with 1 Axes>"
      ]
     },
     "metadata": {
      "needs_background": "light"
     },
     "output_type": "display_data"
    }
   ],
   "source": [
    "qqplot_data= qqplot(gauss_data, line='s').gca().lines"
   ]
  },
  {
   "cell_type": "code",
   "execution_count": null,
   "id": "16f79889",
   "metadata": {
    "id": "16f79889",
    "outputId": "2b0e2148-efed-4468-b4d6-4942901db85f"
   },
   "outputs": [
    {
     "name": "stderr",
     "output_type": "stream",
     "text": [
      "C:\\Users\\julli\\anaconda3\\envs\\geo_env\\lib\\site-packages\\statsmodels\\graphics\\gofplots.py:993: UserWarning: marker is redundantly defined by the 'marker' keyword argument and the fmt string \"bo\" (-> marker='o'). The keyword argument will take precedence.\n",
      "  ax.plot(x, y, fmt, **plot_style)\n"
     ]
    },
    {
     "data": {
      "image/png": "[encoded data removed]",
      "text/plain": [
       "<Figure size 432x288 with 1 Axes>"
      ]
     },
     "metadata": {
      "needs_background": "light"
     },
     "output_type": "display_data"
    }
   ],
   "source": [
    "qqplot_data = qqplot(txt.HH, line='s').gca().lines"
   ]
  },
  {
   "cell_type": "code",
   "execution_count": null,
   "id": "fb3cb817",
   "metadata": {
    "id": "fb3cb817"
   },
   "outputs": [],
   "source": [
    "test = txt.iloc[:, 0:4]"
   ]
  },
  {
   "cell_type": "code",
   "execution_count": null,
   "id": "8206157f",
   "metadata": {
    "id": "8206157f"
   },
   "outputs": [],
   "source": [
    "gauss_data = test.HV"
   ]
  },
  {
   "cell_type": "code",
   "execution_count": null,
   "id": "ee2cbbdc",
   "metadata": {
    "id": "ee2cbbdc",
    "outputId": "5a58c870-d9a3-4a74-e8e7-c46c07617c4b"
   },
   "outputs": [
    {
     "data": {
      "text/plain": [
       "(array([1.8000e+01, 0.0000e+00, 0.0000e+00, 0.0000e+00, 1.0000e+00,\n",
       "        0.0000e+00, 1.0000e+01, 4.0000e+00, 1.1000e+01, 1.1000e+01,\n",
       "        5.0000e+00, 1.6000e+01, 1.7000e+01, 1.2000e+01, 1.8000e+01,\n",
       "        5.8000e+01, 3.1000e+01, 8.3000e+01, 1.5100e+02, 1.7300e+02,\n",
       "        4.7500e+02, 6.3800e+02, 1.6450e+03, 1.9270e+03, 2.9290e+03,\n",
       "        5.2490e+03, 5.8780e+03, 1.0834e+04, 1.1771e+04, 1.6193e+04,\n",
       "        1.3496e+04, 1.5099e+04, 9.6590e+03, 7.2580e+03, 6.7780e+03,\n",
       "        3.5880e+03, 3.0170e+03, 1.4180e+03, 1.1260e+03, 5.2400e+02,\n",
       "        4.7100e+02, 1.5100e+02, 1.0100e+02, 1.1700e+02, 1.5000e+01,\n",
       "        1.1000e+01, 1.0000e+00, 3.0000e+00, 0.0000e+00, 2.0000e+00]),\n",
       " array([  0.  ,   2.44,   4.88,   7.32,   9.76,  12.2 ,  14.64,  17.08,\n",
       "         19.52,  21.96,  24.4 ,  26.84,  29.28,  31.72,  34.16,  36.6 ,\n",
       "         39.04,  41.48,  43.92,  46.36,  48.8 ,  51.24,  53.68,  56.12,\n",
       "         58.56,  61.  ,  63.44,  65.88,  68.32,  70.76,  73.2 ,  75.64,\n",
       "         78.08,  80.52,  82.96,  85.4 ,  87.84,  90.28,  92.72,  95.16,\n",
       "         97.6 , 100.04, 102.48, 104.92, 107.36, 109.8 , 112.24, 114.68,\n",
       "        117.12, 119.56, 122.  ]),\n",
       " <BarContainer object of 50 artists>)"
      ]
     },
     "execution_count": 25,
     "metadata": {},
     "output_type": "execute_result"
    },
    {
     "data": {
      "image/png": "[encoded data removed]",
      "text/plain": [
       "<Figure size 432x288 with 1 Axes>"
      ]
     },
     "metadata": {
      "needs_background": "light"
     },
     "output_type": "display_data"
    }
   ],
   "source": [
    "plt.hist(gauss_data,bins = 50)"
   ]
  },
  {
   "cell_type": "code",
   "execution_count": null,
   "id": "3a098928-3f71-449c-a1ba-7c4e28502076",
   "metadata": {},
   "outputs": [],
   "source": [
    "#Check for normal data"
   ]
  },
  {
   "cell_type": "code",
   "execution_count": null,
   "id": "81aadf10",
   "metadata": {
    "id": "81aadf10"
   },
   "outputs": [],
   "source": [
    "import chart_studio.plotly as py\n",
    "import plotly.graph_objs as go\n",
    "import plotly.figure_factory as ff\n",
    "import plotly.io as pio"
   ]
  },
  {
   "cell_type": "code",
   "execution_count": null,
   "id": "20afb7b4",
   "metadata": {
    "id": "20afb7b4"
   },
   "outputs": [],
   "source": [
    "import chart_studio\n",
    "chart_studio.tools.set_credentials_file(username='enter_username', api_key='enter_APIkey')"
   ]
  },
  {
   "cell_type": "code",
   "execution_count": null,
   "id": "c2032ab2",
   "metadata": {
    "id": "c2032ab2",
    "outputId": "c2365051-cfe7-4119-bc65-6b27af2f1293"
   },
   "outputs": [
    {
     "data": {
      "text/html": [
       "\n",
       "        <iframe\n",
       "            width=\"100%\"\n",
       "            height=\"200px\"\n",
       "            src=\"https://plotly.com/~jules93/23.embed\"\n",
       "            frameborder=\"0\"\n",
       "            allowfullscreen\n",
       "        ></iframe>\n",
       "        "
      ],
      "text/plain": [
       "<IPython.lib.display.IFrame at 0x29aabee91f0>"
      ]
     },
     "execution_count": 59,
     "metadata": {},
     "output_type": "execute_result"
    }
   ],
   "source": [
    "from scipy.stats import shapiro\n",
    "stat, p = shapiro(gauss_data)\n",
    "\n",
    "# interpret\n",
    "alpha = 0.05\n",
    "if p > alpha:\n",
    "    msg = 'Sample looks Gaussian (fail to reject H0)'\n",
    "else:\n",
    "    msg = 'Sample does not look Gaussian (reject H0)'\n",
    "\n",
    "result_mat = [\n",
    "    ['Length of the sample data', 'Test Statistic', 'p-value', 'Comments'],\n",
    "    [len(gauss_data), stat, p, msg]\n",
    "]\n",
    "\n",
    "swt_table = ff.create_table(result_mat)\n",
    "swt_table['data'][0].colorscale=[[0, '#2a3f5f'],[1, '#ffffff']]\n",
    "swt_table['layout']['height']=200\n",
    "swt_table['layout']['margin']['t']=50\n",
    "swt_table['layout']['margin']['b']=50\n",
    "\n",
    "py.iplot(swt_table)\n",
    "\n",
    "#print(result_mat)"
   ]
  },
  {
   "cell_type": "code",
   "execution_count": null,
   "id": "bf315141",
   "metadata": {
    "id": "bf315141",
    "outputId": "eb72cf99-65fd-44ab-a846-daf0d5660ab1"
   },
   "outputs": [
    {
     "data": {
      "text/html": [
       "\n",
       "        <iframe\n",
       "            width=\"100%\"\n",
       "            height=\"300px\"\n",
       "            src=\"https://plotly.com/~jules93/9.embed\"\n",
       "            frameborder=\"0\"\n",
       "            allowfullscreen\n",
       "        ></iframe>\n",
       "        "
      ],
      "text/plain": [
       "<IPython.lib.display.IFrame at 0x29aaffbdeb0>"
      ]
     },
     "execution_count": 43,
     "metadata": {},
     "output_type": "execute_result"
    }
   ],
   "source": [
    "from scipy.stats import anderson\n",
    "\n",
    "result = anderson(gauss_data)\n",
    "stat = round(result.statistic, 4)\n",
    "\n",
    "p = 0\n",
    "result_mat = []\n",
    "for i in range(len(result.critical_values)):\n",
    "    sl, cv = result.significance_level[i], result.critical_values[i]\n",
    "    if result.statistic < result.critical_values[i]:\n",
    "        msg = 'Sample looks Gaussian (fail to reject H0)'\n",
    "    else:\n",
    "        msg = 'Sample does not look Gaussian (reject H0)'\n",
    "    result_mat.append([len(gauss_data), stat, sl, cv, msg])\n",
    "trace = go.Table(\n",
    "header=dict(values=['<b>Sample Size</b>', '<b>Statistic</b>', '<b>Significance Level</b>', '<b>Critical Value</b>', '<b>Comment</b>'],\n",
    "                line = dict(width=0),\n",
    "                fill = dict(color='rgba(42,63,95,0.8)'),\n",
    "                align = 'center',\n",
    "                font = dict(\n",
    "                    color = '#ffffff',\n",
    "                    size = 12\n",
    "                )),\n",
    "    cells=dict(values=np.array(result_mat).T,\n",
    "               line = dict(width=0),\n",
    "               fill = dict(color=[['#EBF0F8', '#ffffff', '#EBF0F8', '#ffffff', '#EBF0F8']]),\n",
    "               align = 'center',\n",
    "               height = 40),\n",
    "    columnwidth=[0.3, 0.25, 0.3, 0.25, 0.5])\n",
    "layout = dict(\n",
    "    height=300,\n",
    "    margin=dict(\n",
    "        l=5,\n",
    "        r=5,\n",
    "        t=30,\n",
    "        b=0\n",
    "    )\n",
    ")\n",
    "data = [trace]\n",
    "andar_table = dict(data=data, layout=layout)\n",
    "\n",
    "py.iplot(andar_table)"
   ]
  },
  {
   "cell_type": "code",
   "execution_count": null,
   "id": "16f9f059",
   "metadata": {
    "id": "16f9f059",
    "outputId": "92f79afa-f276-4202-8f43-5b6d448aca37"
   },
   "outputs": [
    {
     "name": "stdout",
     "output_type": "stream",
     "text": [
      "[[57778, 214.8076, 15.0, 0.576, 'Sample does not look Gaussian (reject H0)'], [57778, 214.8076, 10.0, 0.656, 'Sample does not look Gaussian (reject H0)'], [57778, 214.8076, 5.0, 0.787, 'Sample does not look Gaussian (reject H0)'], [57778, 214.8076, 2.5, 0.918, 'Sample does not look Gaussian (reject H0)'], [57778, 214.8076, 1.0, 1.092, 'Sample does not look Gaussian (reject H0)']]\n"
     ]
    }
   ],
   "source": [
    "print(result_mat)"
   ]
  },
  {
   "cell_type": "code",
   "execution_count": null,
   "id": "7c8b8301",
   "metadata": {
    "id": "7c8b8301",
    "outputId": "2cf64de7-c263-4369-98e7-35b6d457cd6e"
   },
   "outputs": [
    {
     "data": {
      "text/html": [
       "\n",
       "        <iframe\n",
       "            width=\"100%\"\n",
       "            height=\"200px\"\n",
       "            src=\"https://plotly.com/~jules93/11.embed\"\n",
       "            frameborder=\"0\"\n",
       "            allowfullscreen\n",
       "        ></iframe>\n",
       "        "
      ],
      "text/plain": [
       "<IPython.lib.display.IFrame at 0x29aaeb48cd0>"
      ]
     },
     "execution_count": 45,
     "metadata": {},
     "output_type": "execute_result"
    }
   ],
   "source": [
    "from scipy.stats import normaltest\n",
    "\n",
    "stat, p = normaltest(gauss_data)\n",
    "\n",
    "# interpret\n",
    "alpha = 0.05\n",
    "if p > alpha:\n",
    "    msg = 'Sample looks Gaussian (fail to reject H0)'\n",
    "else:\n",
    "    msg = 'Sample does not look Gaussian (reject H0)'\n",
    "\n",
    "result_mat = [\n",
    "    ['Length of the sample data', 'Test Statistic', 'p-value', 'Comments'],\n",
    "    [len(gauss_data), stat, p, msg]\n",
    "]\n",
    "normt_table = ff.create_table(result_mat)\n",
    "normt_table['data'][0].colorscale=[[0, '#2a3f5f'],[1, '#ffffff']]\n",
    "normt_table['layout']['height']=200\n",
    "normt_table['layout']['margin']['t']=50\n",
    "normt_table['layout']['margin']['b']=50\n",
    "\n",
    "py.iplot(normt_table)\n"
   ]
  },
  {
   "cell_type": "code",
   "execution_count": null,
   "id": "a686600f",
   "metadata": {
    "id": "a686600f",
    "outputId": "aa09ade7-f39f-4c69-873d-64d530b07179"
   },
   "outputs": [
    {
     "name": "stdout",
     "output_type": "stream",
     "text": [
      "[['Length of the sample data', 'Test Statistic', 'p-value', 'Comments'], [57778, 4122.796309713635, 0.0, 'Sample does not look Gaussian (reject H0)']]\n"
     ]
    }
   ],
   "source": [
    "print(result_mat)"
   ]
  },
  {
   "cell_type": "code",
   "execution_count": null,
   "id": "e2985299",
   "metadata": {
    "id": "e2985299"
   },
   "outputs": [],
   "source": []
  }
 ],
 "metadata": {
  "colab": {
   "provenance": []
  },
  "kernelspec": {
   "display_name": "Python 3 (ipykernel)",
   "language": "python",
   "name": "python3"
  },
  "language_info": {
   "codemirror_mode": {
    "name": "ipython",
    "version": 3
   },
   "file_extension": ".py",
   "mimetype": "text/x-python",
   "name": "python",
   "nbconvert_exporter": "python",
   "pygments_lexer": "ipython3",
   "version": "3.11.7"
  }
 },
 "nbformat": 4,
 "nbformat_minor": 5
}
